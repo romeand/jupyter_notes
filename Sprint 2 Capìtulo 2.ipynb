{
 "cells": [
  {
   "cell_type": "code",
   "execution_count": 45,
   "id": "1a9581a5-e15f-420f-bd59-3f05ad8fe840",
   "metadata": {},
   "outputs": [
    {
     "ename": "SyntaxError",
     "evalue": "invalid syntax (2759958839.py, line 1)",
     "output_type": "error",
     "traceback": [
      "\u001b[1;36m  Cell \u001b[1;32mIn[45], line 1\u001b[1;36m\u001b[0m\n\u001b[1;33m    Ejercicios Creación de múltiples ramas con else y elif\u001b[0m\n\u001b[1;37m               ^\u001b[0m\n\u001b[1;31mSyntaxError\u001b[0m\u001b[1;31m:\u001b[0m invalid syntax\n"
     ]
    }
   ],
   "source": [
    "Ejercicios Creación de múltiples ramas con else y elif\n",
    "SPRINT 2, Capítulo 2, lección 4."
   ]
  },
  {
   "cell_type": "code",
   "execution_count": 41,
   "id": "3315396c-3664-4dd6-8ea6-a53cd306df3c",
   "metadata": {},
   "outputs": [
    {
     "name": "stdout",
     "output_type": "stream",
     "text": [
      "5\n",
      "2\n",
      "3\n",
      "5\n",
      "4\n",
      "5\n"
     ]
    }
   ],
   "source": [
    "ratings = [91, 35, 65, 89, 78, 93]\n",
    "for califa in ratings:\n",
    "    if califa >= 0 and califa <= 59:\n",
    "        print(2)\n",
    "    elif califa >= 60 and califa <= 72:\n",
    "        print(3)\n",
    "    elif califa >= 73 and califa <= 84:\n",
    "        print(4)\n",
    "    else:\n",
    "        califa >= 85 and califa <= 100\n",
    "        print(5)\n",
    "        "
   ]
  },
  {
   "cell_type": "code",
   "execution_count": null,
   "id": "389f1fe5-2686-498f-b33a-e551dad02177",
   "metadata": {},
   "outputs": [],
   "source": [
    "Lección 5, modificación de tablas."
   ]
  },
  {
   "cell_type": "code",
   "execution_count": 5,
   "id": "2931a4c5-178a-4dc5-9209-17209260dccd",
   "metadata": {},
   "outputs": [
    {
     "name": "stdout",
     "output_type": "stream",
     "text": [
      "['The Shawshank Redemption', 1994, 'Frank Darabont']\n",
      "['The Godfather', 1972, 'Francis Ford Coppola']\n",
      "['The Dark Knight', 2008, 'Christopher Nolan']\n",
      "['12 Angry Men', 1957, 'Sidney Lumet']\n",
      "[\"Schindler's List\", 1993, 'Steven Spielberg']\n",
      "['The Lord of the Rings: The Fellowship of the Ring', 2001, 'Peter Jackson']\n"
     ]
    }
   ],
   "source": [
    "movies = [\n",
    "    [\"The Shawshank Redemption\", 1994, \"Frank Darabont\"],\n",
    "    [\"The Godfather\", 1972, \"Francis Ford Coppola\"],\n",
    "    [\"The Dark Knight\", 2008, \"Christopher Nolan\"],\n",
    "    [\"12 Angry Men\", 1957, \"Sidney Lumet\"],\n",
    "    [\"Schindler's List\", 1993, \"Steven Spielberg\"],\n",
    "    [\"The Lord of the Rings: The Return of the King\", 2003, \"Peter Jackson\"]\n",
    "]\n",
    "\n",
    "movie_to_change = \"The Lord of the Rings: The Return of the King\"\n",
    "new_movie = \"The Lord of the Rings: The Fellowship of the Ring\"\n",
    "new_year = 2001\n",
    "\n",
    "for movie in movies:\n",
    "    if movie[0] == movie_to_change:\n",
    "        movie[0] = new_movie\n",
    "        movie[1] = new_year\n",
    "        \n",
    "for movie in movies:\n",
    "    print(movie)"
   ]
  },
  {
   "cell_type": "code",
   "execution_count": null,
   "id": "6b1fe390-ca9b-4353-804c-085999e7d0b7",
   "metadata": {},
   "outputs": [],
   "source": [
    "Lección 6, filtrar tablas."
   ]
  },
  {
   "cell_type": "code",
   "execution_count": 25,
   "id": "61e0bac7-898c-4599-84ab-c77bdf16427a",
   "metadata": {},
   "outputs": [
    {
     "name": "stdout",
     "output_type": "stream",
     "text": [
      "[['The Shawshank Redemption', 'USA', 1994, 'drama', 142, 9.111], ['The Godfather', 'USA', 1972, 'drama, crime', 175, 8.73], ['The Dark Knight', 'USA', 2008, 'fantasy, action, thriller', 152, 8.499], [\"Schindler's List\", 'USA', 1993, 'drama', 195, 8.818], ['Pulp Fiction', 'USA', 1994, 'thriller, comedy, crime', 154, 8.619], ['Fight Club', 'USA', 1999, 'thriller, drama, crime', 139, 8.644], ['Good Will Hunting', 'USA', 1997, 'drama, romance', 126, 8.077]]\n"
     ]
    }
   ],
   "source": [
    "movies_info = [\n",
    "    ['The Shawshank Redemption', 'USA', 1994, 'drama', 142, 9.111],\n",
    "    ['The Godfather', 'USA', 1972, 'drama, crime', 175, 8.730],\n",
    "    ['The Dark Knight', 'USA', 2008, 'fantasy, action, thriller', 152, 8.499],\n",
    "    [\"Schindler's List\", 'USA', 1993, 'drama', 195, 8.818],\n",
    "    ['The Lord of the Rings: The Return of the King', 'New Zealand', 2003, 'fantasy, adventure, drama', 201, 8.625],\n",
    "    ['Pulp Fiction', 'USA', 1994, 'thriller, comedy, crime', 154, 8.619],\n",
    "    ['The Good, the Bad and the Ugly', 'Italy', 1966, 'western', 178, 8.521],\n",
    "    ['Fight Club', 'USA', 1999, 'thriller, drama, crime', 139, 8.644],\n",
    "    ['Harakiri', 'Japan', 1962, 'drama, action, history', 133, 8.106],\n",
    "    ['Good Will Hunting', 'USA', 1997, 'drama, romance', 126, 8.077]\n",
    "]\n",
    "\n",
    "movies_filtered = []\n",
    "\n",
    "for movie in movies_info:\n",
    "    if movie[1] == 'USA':\n",
    "        movies_filtered.append(movie)\n",
    "print(movies_filtered)"
   ]
  },
  {
   "cell_type": "code",
   "execution_count": null,
   "id": "c90ad153-dacd-4956-bfd4-68ee3e8eaaaa",
   "metadata": {},
   "outputs": [],
   "source": [
    "Lección 7, operadores Lógicos y filtros"
   ]
  },
  {
   "cell_type": "code",
   "execution_count": 1,
   "id": "6d7b861a-3acd-43d8-ac70-e2a036c48d26",
   "metadata": {},
   "outputs": [
    {
     "name": "stdout",
     "output_type": "stream",
     "text": [
      "['The Shawshank Redemption', 'USA', 1994, 'drama', 142, 9.111]\n",
      "['The Dark Knight', 'USA', 2008, 'fantasy, action, thriller', 152, 8.499]\n",
      "['Pulp Fiction', 'USA', 1994, 'thriller, comedy, crime', 154, 8.619]\n",
      "['Harakiri', 'Japan', 1962, 'drama, action, history', 133, 8.106]\n",
      "['Good Will Hunting', 'USA', 1997, 'drama, romance', 126, 8.077]\n"
     ]
    }
   ],
   "source": [
    "movies_info = [\n",
    "    ['The Shawshank Redemption', 'USA', 1994, 'drama', 142, 9.111],\n",
    "    ['The Godfather', 'USA', 1972, 'drama, crime', 175, 8.730],\n",
    "    ['The Dark Knight', 'USA', 2008, 'fantasy, action, thriller', 152, 8.499],\n",
    "    [\"Schindler's List\", 'USA', 1993, 'drama', 195, 8.818],\n",
    "    ['The Lord of the Rings: The Return of the King', 'New Zealand', 2003, 'fantasy, adventure, drama', 201, 8.625],\n",
    "    ['Pulp Fiction', 'USA', 1994, 'thriller, comedy, crime', 154, 8.619],\n",
    "    ['The Good, the Bad and the Ugly', 'Italy', 1966, 'western', 178, 8.521],\n",
    "    ['Fight Club', 'USA', 1999, 'thriller, drama, crime', 139, 8.644],\n",
    "    ['Harakiri', 'Japan', 1962, 'drama, action, history', 133, 8.106],\n",
    "    ['Good Will Hunting', 'USA', 1997, 'drama, romance', 126, 8.077]\n",
    "]\n",
    "\n",
    "movies_filtered = []\n",
    "for movie in movies_info:\n",
    "    if movie[2] == 1994 or movie[5] <= 8.5:\n",
    "        movies_filtered.append(movie)\n",
    "        \n",
    "for movie in movies_filtered:\n",
    "    print(movie) "
   ]
  },
  {
   "cell_type": "code",
   "execution_count": null,
   "id": "96f882ea-e9c4-4be4-8a22-01fb18be98f9",
   "metadata": {},
   "outputs": [],
   "source": []
  }
 ],
 "metadata": {
  "kernelspec": {
   "display_name": "Python 3 (ipykernel)",
   "language": "python",
   "name": "python3"
  },
  "language_info": {
   "codemirror_mode": {
    "name": "ipython",
    "version": 3
   },
   "file_extension": ".py",
   "mimetype": "text/x-python",
   "name": "python",
   "nbconvert_exporter": "python",
   "pygments_lexer": "ipython3",
   "version": "3.12.4"
  }
 },
 "nbformat": 4,
 "nbformat_minor": 5
}
