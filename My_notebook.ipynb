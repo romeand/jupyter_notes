{
 "cells": [
  {
   "cell_type": "code",
   "execution_count": 5,
   "id": "bca41965-af73-4955-b713-2cc53a4459e4",
   "metadata": {},
   "outputs": [
    {
     "name": "stdout",
     "output_type": "stream",
     "text": [
      "Hello world for like the 14th time\n"
     ]
    }
   ],
   "source": [
    "print('Hello world for like the 14th time')"
   ]
  },
  {
   "cell_type": "code",
   "execution_count": 6,
   "id": "bd63995a-7537-4896-bd39-b161a5e3ad86",
   "metadata": {},
   "outputs": [
    {
     "name": "stdout",
     "output_type": "stream",
     "text": [
      "Mi computadora tiene 16 núcleos de CPU\n"
     ]
    }
   ],
   "source": [
    "import os\n",
    "\n",
    "cpu_num = os.cpu_count()\n",
    "print(f\"Mi computadora tiene {cpu_num} núcleos de CPU\")"
   ]
  },
  {
   "cell_type": "code",
   "execution_count": 4,
   "id": "09e9ca48-d9e6-4566-a46e-26b7492cb6c6",
   "metadata": {},
   "outputs": [
    {
     "name": "stdout",
     "output_type": "stream",
     "text": [
      "Mi computadora tiene 16 núcleos de CPU\n"
     ]
    }
   ],
   "source": [
    "!python cpus.py"
   ]
  },
  {
   "cell_type": "markdown",
   "id": "a80e898b-6ef0-4448-8b35-2681a0ffb29d",
   "metadata": {},
   "source": [
    "## Texto e imágenes en un cuaderno\n",
    "---\n",
    "En Jupyter Notebook puedes mezclar:\n",
    "* código;\n",
    "* texto;\n",
    "* imágenes."
   ]
  },
  {
   "cell_type": "code",
   "execution_count": 8,
   "id": "bbe28c32-3901-4e94-b70c-dbd6267a7ade",
   "metadata": {},
   "outputs": [
    {
     "data": {
      "text/plain": [
       "'3.12.7 | packaged by Anaconda, Inc. | (main, Oct  4 2024, 13:17:27) [MSC v.1929 64 bit (AMD64)]'"
      ]
     },
     "execution_count": 8,
     "metadata": {},
     "output_type": "execute_result"
    }
   ],
   "source": [
    "import sys\n",
    "sys.version"
   ]
  },
  {
   "cell_type": "code",
   "execution_count": 9,
   "id": "7fb78b2b-2de6-4213-a792-6f8e1f2d3345",
   "metadata": {},
   "outputs": [
    {
     "name": "stdout",
     "output_type": "stream",
     "text": [
      "2.2.2\n"
     ]
    }
   ],
   "source": [
    "import pandas as pd\n",
    "print(pd.__version__)"
   ]
  },
  {
   "cell_type": "code",
   "execution_count": null,
   "id": "1310a133-30d5-4c23-9a83-7c9a47d59f6f",
   "metadata": {},
   "outputs": [],
   "source": []
  }
 ],
 "metadata": {
  "kernelspec": {
   "display_name": "Python 3 (ipykernel)",
   "language": "python",
   "name": "python3"
  },
  "language_info": {
   "codemirror_mode": {
    "name": "ipython",
    "version": 3
   },
   "file_extension": ".py",
   "mimetype": "text/x-python",
   "name": "python",
   "nbconvert_exporter": "python",
   "pygments_lexer": "ipython3",
   "version": "3.12.7"
  }
 },
 "nbformat": 4,
 "nbformat_minor": 5
}
