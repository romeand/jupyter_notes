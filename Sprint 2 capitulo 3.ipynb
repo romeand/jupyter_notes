{
 "cells": [
  {
   "cell_type": "code",
   "execution_count": null,
   "id": "e52cbe0b-8688-4b3d-8783-98d49ce94996",
   "metadata": {},
   "outputs": [],
   "source": [
    "Lección 2 Extraer valores de diccionarios"
   ]
  },
  {
   "cell_type": "code",
   "execution_count": 8,
   "id": "64b8d6f1-b6ef-4f0c-a979-243f575375a4",
   "metadata": {},
   "outputs": [
    {
     "name": "stdout",
     "output_type": "stream",
     "text": [
      "hello world\n",
      "96.99\n"
     ]
    }
   ],
   "source": [
    "financial_info = {\n",
    "    'American Express': 93.23,\n",
    "    'Boeing': 178.44,\n",
    "    'Coca-Cola': 45.15,\n",
    "    'Nike': 97.99,\n",
    "    'JPMorgan':96.27,\n",
    "    'Walmart': 130.68\n",
    "}\n",
    "pepsi_price = financial_info.get('Pepsi', 'hello world')\n",
    "nike_price = financial_info.get('Nike')-1\n",
    "print(pepsi_price)\n",
    "print(nike_price)\n",
    "    "
   ]
  },
  {
   "cell_type": "code",
   "execution_count": null,
   "id": "a89f7c35-7a97-49cb-8958-5049b96b6d90",
   "metadata": {},
   "outputs": [],
   "source": [
    "Lección 5 Cuestionario del capítulo"
   ]
  },
  {
   "cell_type": "code",
   "execution_count": null,
   "id": "692080c7-ceeb-43a2-ab25-17dce116da34",
   "metadata": {},
   "outputs": [],
   "source": [
    " "
   ]
  }
 ],
 "metadata": {
  "kernelspec": {
   "display_name": "Python 3 (ipykernel)",
   "language": "python",
   "name": "python3"
  },
  "language_info": {
   "codemirror_mode": {
    "name": "ipython",
    "version": 3
   },
   "file_extension": ".py",
   "mimetype": "text/x-python",
   "name": "python",
   "nbconvert_exporter": "python",
   "pygments_lexer": "ipython3",
   "version": "3.12.4"
  }
 },
 "nbformat": 4,
 "nbformat_minor": 5
}
