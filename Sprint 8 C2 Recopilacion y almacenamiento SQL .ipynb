{
 "cells": [
  {
   "cell_type": "code",
   "execution_count": 1,
   "metadata": {},
   "outputs": [
    {
     "name": "stdout",
     "output_type": "stream",
     "text": [
      "                                                name   price\n",
      "0                      Leche de vaca entera, 1 galón   $4.23\n",
      "1                    Fairlife Leche entera, 52 onzas   $3.11\n",
      "2  Nestle Nesquik Leche chocolatada baja en grasa...  $11.54\n",
      "3  Moo-Moo Leche desnatada con ingredientes selec...   $0.92\n",
      "4  Moo-Moo Leche desnatada con ingredientes selec...    $2.3\n"
     ]
    }
   ],
   "source": [
    "import pandas as pd\n",
    "import requests  # Importa la librería para enviar solicitudes al servidor\n",
    "from bs4 import BeautifulSoup  # Importa la librería para analizar la página web\n",
    "\n",
    "URL = 'https://tripleten-com.github.io/simple-shop_es/'\n",
    "req = requests.get(URL)  # solicitud GET\n",
    "soup = BeautifulSoup(req.text, 'lxml')\n",
    "\n",
    "name_products = []  # Lista donde se almacenan los nombres de los productos\n",
    "for row in soup.find_all(\n",
    "    'p', attrs={'class': 't754__title t-name t-name_md js-product-name'}\n",
    "):\n",
    "    name_products.append(row.text)\n",
    "price = []  # Lista donde se almacenan los precios de los productos\n",
    "for row in soup.find_all(\n",
    "    'p', attrs={'class': 't754__price-value js-product-price'}\n",
    "):\n",
    "    price.append(row.text)\n",
    "products_data = (pd.DataFrame())  # DataFrame con los datos de nombres de productos y precios\n",
    "products_data['name'] = name_products\n",
    "products_data['price'] = price\n",
    "print(products_data.head(5))"
   ]
  }
 ],
 "metadata": {
  "kernelspec": {
   "display_name": "base",
   "language": "python",
   "name": "python3"
  },
  "language_info": {
   "codemirror_mode": {
    "name": "ipython",
    "version": 3
   },
   "file_extension": ".py",
   "mimetype": "text/x-python",
   "name": "python",
   "nbconvert_exporter": "python",
   "pygments_lexer": "ipython3",
   "version": "3.12.7"
  }
 },
 "nbformat": 4,
 "nbformat_minor": 2
}
