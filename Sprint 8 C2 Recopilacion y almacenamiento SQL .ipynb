{
 "cells": [
  {
   "cell_type": "code",
   "execution_count": 1,
   "metadata": {},
   "outputs": [
    {
     "name": "stdout",
     "output_type": "stream",
     "text": [
      "                                                name   price\n",
      "0                      Leche de vaca entera, 1 galón   $4.23\n",
      "1                    Fairlife Leche entera, 52 onzas   $3.11\n",
      "2  Nestle Nesquik Leche chocolatada baja en grasa...  $11.54\n",
      "3  Moo-Moo Leche desnatada con ingredientes selec...   $0.92\n",
      "4  Moo-Moo Leche desnatada con ingredientes selec...    $2.3\n"
     ]
    }
   ],
   "source": [
    "import pandas as pd\n",
    "import requests  # Importa la librería para enviar solicitudes al servidor\n",
    "from bs4 import BeautifulSoup  # Importa la librería para analizar la página web\n",
    "\n",
    "URL = 'https://tripleten-com.github.io/simple-shop_es/'\n",
    "req = requests.get(URL)  # solicitud GET\n",
    "soup = BeautifulSoup(req.text, 'lxml')\n",
    "\n",
    "name_products = []  # Lista donde se almacenan los nombres de los productos\n",
    "for row in soup.find_all(\n",
    "    'p', attrs={'class': 't754__title t-name t-name_md js-product-name'}\n",
    "):\n",
    "    name_products.append(row.text)\n",
    "price = []  # Lista donde se almacenan los precios de los productos\n",
    "for row in soup.find_all(\n",
    "    'p', attrs={'class': 't754__price-value js-product-price'}\n",
    "):\n",
    "    price.append(row.text)\n",
    "products_data = (pd.DataFrame())  # DataFrame con los datos de nombres de productos y precios\n",
    "products_data['name'] = name_products\n",
    "products_data['price'] = price\n",
    "print(products_data.head(5))"
   ]
  },
  {
   "cell_type": "markdown",
   "metadata": {},
   "source": [
    "API"
   ]
  },
  {
   "cell_type": "code",
   "execution_count": 1,
   "metadata": {},
   "outputs": [
    {
     "name": "stdout",
     "output_type": "stream",
     "text": [
      "Cancún: ☀️   +28°C\n",
      "\n"
     ]
    }
   ],
   "source": [
    "import requests\n",
    "\n",
    "city = \"Cancún\" # escribe tu ciudad\n",
    "\n",
    "BASE_URL = f'https://wttr.in/{city}'\n",
    "# URL para el método get()\n",
    "\n",
    "params = {\"format\": 3,\"m\":\"\"} # diccionario con parámetros de solicitud\n",
    "    # escribe tu código aquí\n",
    "\n",
    "response = requests.get(BASE_URL, params=params)\n",
    "print(response.text)"
   ]
  },
  {
   "cell_type": "code",
   "execution_count": null,
   "metadata": {},
   "outputs": [],
   "source": [
    "import requests\n",
    "import json\n",
    "\n",
    "city = \"Paris\"\n",
    "\n",
    "BASE_URL = f'https://wttr.in/{city}'\n",
    "# URL para el método get() \n",
    "\n",
    "PARAM={\"format\":\"j1\"}\n",
    "\n",
    "\n",
    "response = requests.get(BASE_URL, params = PARAM)\n",
    "\n",
    "response_parsed = json.loads(response.text)\n",
    "fact_weather = response_parsed['current_condition']# inserta tu clave aquí]\n",
    "print(json.dumps(fact_weather))# convierte al formato JSON y muéstralo aquí"
   ]
  }
 ],
 "metadata": {
  "kernelspec": {
   "display_name": "base",
   "language": "python",
   "name": "python3"
  },
  "language_info": {
   "codemirror_mode": {
    "name": "ipython",
    "version": 3
   },
   "file_extension": ".py",
   "mimetype": "text/x-python",
   "name": "python",
   "nbconvert_exporter": "python",
   "pygments_lexer": "ipython3",
   "version": "3.12.7"
  }
 },
 "nbformat": 4,
 "nbformat_minor": 2
}
