{
 "cells": [
  {
   "cell_type": "markdown",
   "metadata": {},
   "source": [
    "1.Mira las hipótesis y los parámetros evaluados de WSJF en el archivo. \n",
    "\n",
    "Calcula el WSJF para las hipótesis. Agrega los valores de WSJF a la tabla existente. Asigna el nombre WSJF a la nueva columna. No redondees los valores.\n",
    "\n",
    "Muestra las columnas 'hypothesis' y 'WSJF' ordenadas por la columna 'WSJF' en orden descendente."
   ]
  },
  {
   "cell_type": "code",
   "execution_count": null,
   "metadata": {},
   "outputs": [],
   "source": [
    "1.Mira las hipótesis y los parámetros evaluados de WSJF en el archivo. \n",
    "\n",
    "Calcula el WSJF para las hipótesis. Agrega los valores de WSJF a la tabla existente. Asigna el nombre WSJF a la nueva columna. No redondees los valores.\n",
    "\n",
    "Muestra las columnas 'hypothesis' y 'WSJF' ordenadas por la columna 'WSJF' en orden descendente."
   ]
  },
  {
   "cell_type": "code",
   "execution_count": null,
   "metadata": {},
   "outputs": [],
   "source": [
    "import pandas as pd\n",
    "\n",
    "data = pd.read_csv('/datasets/hypothesis_4-1-1.csv', sep=',')\n",
    "\n",
    "print(data)\n",
    "\n",
    "data['WSJF'] = (data['user_business_value'] + data['time_criticality'] + data['risk_reduction_opportunity_enablement'])/data['job_size']\n",
    "print(data[['hypothesis', 'WSJF']].sort_values(by='WSJF', ascending=False))"
   ]
  },
  {
   "cell_type": "markdown",
   "metadata": {},
   "source": [
    "Resultado\n",
    "      hypothesis  ...  job_size\n",
    "0   hypothesis_1  ...         1\n",
    "1   hypothesis_2  ...         5\n",
    "2   hypothesis_3  ...        10\n",
    "3   hypothesis_4  ...         2\n",
    "4   hypothesis_5  ...         8\n",
    "5   hypothesis_6  ...         1\n",
    "6   hypothesis_7  ...         2\n",
    "7   hypothesis_8  ...         2\n",
    "8   hypothesis_9  ...         1\n",
    "9  hypothesis_10  ...        10\n",
    "\n",
    "[10 rows x 5 columns]\n",
    "      hypothesis   WSJF\n",
    "0   hypothesis_1  30.00\n",
    "3   hypothesis_4  14.50\n",
    "8   hypothesis_9  14.00\n",
    "5   hypothesis_6  12.00\n",
    "6   hypothesis_7   6.50\n",
    "7   hypothesis_8   4.50\n",
    "1   hypothesis_2   4.20\n",
    "9  hypothesis_10   1.90\n",
    "4   hypothesis_5   1.75\n",
    "2   hypothesis_3   1.60\n",
    "\n",
    "2.Estudia las hipótesis y los parámetros evaluados de ICE en el archivo. \n",
    "\n",
    "Calcula el ICE para las hipótesis. Agrega los valores obtenidos a la tabla existente. Asigna el nombre ICE a la nueva columna. No redondees los valores. \n",
    "\n",
    "Muestra las columnas 'hypothesis' y 'ICE' ordenadas por la columna 'ICE' en orden descendente."
   ]
  },
  {
   "cell_type": "code",
   "execution_count": null,
   "metadata": {},
   "outputs": [],
   "source": [
    "import pandas as pd\n",
    "\n",
    "data = pd.read_csv('/datasets/hypothesis_4-1-2.csv', sep=',')\n",
    "\n",
    "print(data)\n",
    "\n",
    "data['ICE'] = (data['impact']*data['confidence'])/data['efforts']\n",
    "print(data[['hypothesis','ICE']].sort_values(by='ICE', ascending=False))"
   ]
  },
  {
   "cell_type": "markdown",
   "metadata": {},
   "source": [
    "Resultado\n",
    "      hypothesis  reach  impact  confidence  efforts\n",
    "0   hypothesis_1      5      10           3        1\n",
    "1   hypothesis_2      9       9           4        5\n",
    "2   hypothesis_3      8       4           3       10\n",
    "3   hypothesis_4      9      10           5        2\n",
    "4   hypothesis_5      8       4           6        8\n",
    "5   hypothesis_6      5       2          10        1\n",
    "6   hypothesis_7      5       3           2        2\n",
    "7   hypothesis_8      1       1           5        2\n",
    "8   hypothesis_9      7       3           6        1\n",
    "9  hypothesis_10      7       6           5       10\n",
    "      hypothesis   ICE\n",
    "0   hypothesis_1  30.0\n",
    "3   hypothesis_4  25.0\n",
    "5   hypothesis_6  20.0\n",
    "8   hypothesis_9  18.0\n",
    "1   hypothesis_2   7.2\n",
    "4   hypothesis_5   3.0\n",
    "6   hypothesis_7   3.0\n",
    "9  hypothesis_10   3.0\n",
    "7   hypothesis_8   2.5\n",
    "2   hypothesis_3   1.2\n",
    "\n",
    "3.Calcula el RICE para las hipótesis. Agrega los valores obtenidos a la tabla existente. Asigna el nombre RICE a la nueva columna. No redondees los valores. \n",
    "Muestra las columnas 'hypothesis' y 'RICE' ordenadas por la columna 'RICE' en orden descendente."
   ]
  },
  {
   "cell_type": "code",
   "execution_count": null,
   "metadata": {},
   "outputs": [],
   "source": [
    "import pandas as pd\n",
    "\n",
    "data = pd.read_csv('/datasets/hypothesis_4-1-2.csv', sep=',')\n",
    "\n",
    "print(data)\n",
    "\n",
    "data['RICE'] = (data['reach']*data['impact']*data['confidence']) / data['efforts']\n",
    "print(data[['hypothesis','RICE']].sort_values(by='RICE', ascending=False))"
   ]
  },
  {
   "cell_type": "markdown",
   "metadata": {},
   "source": [
    "Resultado\n",
    "      hypothesis  reach  impact  confidence  efforts\n",
    "0   hypothesis_1      5      10           3        1\n",
    "1   hypothesis_2      9       9           4        5\n",
    "2   hypothesis_3      8       4           3       10\n",
    "3   hypothesis_4      9      10           5        2\n",
    "4   hypothesis_5      8       4           6        8\n",
    "5   hypothesis_6      5       2          10        1\n",
    "6   hypothesis_7      5       3           2        2\n",
    "7   hypothesis_8      1       1           5        2\n",
    "8   hypothesis_9      7       3           6        1\n",
    "9  hypothesis_10      7       6           5       10\n",
    "      hypothesis   RICE\n",
    "3   hypothesis_4  225.0\n",
    "0   hypothesis_1  150.0\n",
    "8   hypothesis_9  126.0\n",
    "5   hypothesis_6  100.0\n",
    "1   hypothesis_2   64.8\n",
    "4   hypothesis_5   24.0\n",
    "9  hypothesis_10   21.0\n",
    "6   hypothesis_7   15.0\n",
    "2   hypothesis_3    9.6\n",
    "7   hypothesis_8    2.5"
   ]
  }
 ],
 "metadata": {
  "kernelspec": {
   "display_name": "base",
   "language": "python",
   "name": "python3"
  },
  "language_info": {
   "name": "python",
   "version": "3.12.7"
  }
 },
 "nbformat": 4,
 "nbformat_minor": 2
}
