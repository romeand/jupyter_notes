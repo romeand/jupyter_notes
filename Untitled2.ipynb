{
 "cells": [
  {
   "cell_type": "code",
   "execution_count": 3,
   "id": "b43ad409-d174-4208-9479-39c7c6e16b12",
   "metadata": {},
   "outputs": [
    {
     "name": "stdout",
     "output_type": "stream",
     "text": [
      "<class 'pandas.core.frame.DataFrame'>\n",
      "RangeIndex: 1370 entries, 0 to 1369\n",
      "Data columns (total 21 columns):\n",
      " #   Column                            Non-Null Count  Dtype  \n",
      "---  ------                            --------------  -----  \n",
      " 0   No.                               1370 non-null   int64  \n",
      " 1   Folio de la solicitud             1370 non-null   object \n",
      " 2   Nombre                            1370 non-null   object \n",
      " 3   Cargo                             1370 non-null   object \n",
      " 4   Ámbito                            1370 non-null   object \n",
      " 5   Auxiliar / Gestor                 1370 non-null   object \n",
      " 6   Id auxiliar                       1370 non-null   int64  \n",
      " 7   Id dispositivo                    1370 non-null   int64  \n",
      " 8   Folio del registro                1370 non-null   object \n",
      " 9   Fecha de captación                1369 non-null   object \n",
      " 10  Fecha de recepción                1370 non-null   object \n",
      " 11  Respuesta de situación registral  1370 non-null   object \n",
      " 12  Folio duplicado                   15 non-null     object \n",
      " 13  Tipo de inconsistencia            404 non-null    object \n",
      " 14  Entidad (WS)                      1354 non-null   object \n",
      " 15  Municipio (WS)                    1354 non-null   object \n",
      " 16  Distrito (WS)                     1354 non-null   float64\n",
      " 17  Distrito Local                    1352 non-null   float64\n",
      " 18  Sección Electoral (WS)            1354 non-null   float64\n",
      " 19  Motivo de baja                    1 non-null      object \n",
      " 20  Coinciden los biométricos         0 non-null      float64\n",
      "dtypes: float64(4), int64(3), object(14)\n",
      "memory usage: 224.9+ KB\n"
     ]
    }
   ],
   "source": [
    "import pandas as pd\n",
    "df=pd.read_csv(\"firmas.csv\",encoding='latin-1')\n",
    "df.info()"
   ]
  },
  {
   "cell_type": "code",
   "execution_count": 17,
   "id": "e5e4d14d-c00b-403d-a3b2-6aac0328b100",
   "metadata": {},
   "outputs": [
    {
     "data": {
      "text/plain": [
       "0    40.                                          M...\n",
       "1    19.                                          S...\n",
       "2    19.                                          S...\n",
       "3    26.                                          G...\n",
       "4    19.                                          S...\n",
       "Name: Municipio (WS), dtype: object"
      ]
     },
     "execution_count": 17,
     "metadata": {},
     "output_type": "execute_result"
    }
   ],
   "source": [
    "df['Municipio (WS)'].head(5)"
   ]
  },
  {
   "cell_type": "code",
   "execution_count": 36,
   "id": "9fe45d8c-8680-471e-84a1-25459244c97d",
   "metadata": {},
   "outputs": [
    {
     "data": {
      "text/plain": [
       "array(['40.                                          MONTERREY',\n",
       "       '19.                                          SAN PEDRO GARZA GARCIA',\n",
       "       '26.                                          GUADALUPE', nan,\n",
       "       '47.                                          SAN NICOLAS DE LOS GARZA',\n",
       "       '48.                                          SANTA CATARINA',\n",
       "       '20.                                          LEON',\n",
       "       '41.                                          VICTORIA',\n",
       "       '30.                                          SALTILLO',\n",
       "       '21.                                          GRAL. ESCOBEDO',\n",
       "       '9.                                          CADEREYTA JIMENEZ',\n",
       "       '13.                                          CIUDAD VALLES',\n",
       "       '1.                                          BENITO JUAREZ',\n",
       "       '38.                                          TAMPICO',\n",
       "       '14.                                          QUERETARO',\n",
       "       '49.                                          SANTIAGO',\n",
       "       '5.                                          DURANGO',\n",
       "       '6.                                          APODACA',\n",
       "       '4.                                          CENTRO',\n",
       "       '4.                                          CUAJIMALPA DE MORELOS',\n",
       "       '1.                                          COMONDU',\n",
       "       '18.                                          GARCIA',\n",
       "       '49.                                          HERMOSILLO',\n",
       "       '25.                                          PIEDRAS NEGRAS',\n",
       "       '8.                                          SOLIDARIDAD',\n",
       "       '1.                                          AHOME',\n",
       "       '14.                                          BENITO JUAREZ',\n",
       "       '3.                                          CARMEN',\n",
       "       '28.                                          SAN LUIS POTOSI',\n",
       "       '18.                                          MONCLOVA',\n",
       "       '2.                                          MEXICALI',\n",
       "       '6.                                          CULIACAN',\n",
       "       '19.                                          CHIHUAHUA'],\n",
       "      dtype=object)"
      ]
     },
     "execution_count": 36,
     "metadata": {},
     "output_type": "execute_result"
    }
   ],
   "source": [
    "df['Municipio (WS)'].unique()"
   ]
  },
  {
   "cell_type": "code",
   "execution_count": 30,
   "id": "44f7c33b-fdc7-44d1-87d9-7ba2d98e1e2c",
   "metadata": {},
   "outputs": [
    {
     "data": {
      "text/plain": [
       "1013"
      ]
     },
     "execution_count": 30,
     "metadata": {},
     "output_type": "execute_result"
    }
   ],
   "source": [
    "df['Municipio (WS)'].str.contains('19.                                          SAN PEDRO GARZA GARCIA', case=False).sum()"
   ]
  },
  {
   "cell_type": "code",
   "execution_count": 30,
   "id": "f6e0b255-15d1-4d81-affc-118b43567d3b",
   "metadata": {},
   "outputs": [
    {
     "data": {
      "text/plain": [
       "1013"
      ]
     },
     "execution_count": 30,
     "metadata": {},
     "output_type": "execute_result"
    }
   ],
   "source": [
    "df['Municipio (WS)'].str.contains(', case=False).sum()"
   ]
  },
  {
   "cell_type": "code",
   "execution_count": null,
   "id": "bd82e862-5ab8-4459-b687-2e82e90663e2",
   "metadata": {},
   "outputs": [],
   "source": []
  },
  {
   "cell_type": "code",
   "execution_count": null,
   "id": "344d179d-a313-4df6-9c49-0a34d095663d",
   "metadata": {},
   "outputs": [],
   "source": []
  }
 ],
 "metadata": {
  "kernelspec": {
   "display_name": "Python 3 (ipykernel)",
   "language": "python",
   "name": "python3"
  },
  "language_info": {
   "codemirror_mode": {
    "name": "ipython",
    "version": 3
   },
   "file_extension": ".py",
   "mimetype": "text/x-python",
   "name": "python",
   "nbconvert_exporter": "python",
   "pygments_lexer": "ipython3",
   "version": "3.12.4"
  }
 },
 "nbformat": 4,
 "nbformat_minor": 5
}
