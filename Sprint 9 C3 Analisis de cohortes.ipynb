{
 "cells": [
  {
   "cell_type": "markdown",
   "metadata": {},
   "source": [
    "1. El conjunto de datos game_purchases.csv contiene datos de compras dentro de la aplicación para el juego de estrategia Battle Universe. Las columnas en la tabla son:\n",
    "\n",
    "purchase_datetime: la fecha y el tiempo de la compra.\n",
    "player_id: el identificador único del jugador.\n",
    "item: el nombre del artículo comprado: life, mana (poder mágico utilizado para lanzar hechizos), armor.\n",
    "price (en la divisa del juego).\n",
    "purchase_id: el identificador único de la compra.\n",
    "Lee los datos del archivo game_purchases.csv. Guarda el resultado como purchases.\n",
    "\n",
    "Agrupa los datos de la tabla purchases: encuentra la fecha de la primera compra para cada jugador. Nombra al objeto Series resultante first_purchase_dates. \n",
    "\n",
    "Después cambia el nombre del objeto Series first_purchase_datetime cambiando el atributo name. \n",
    "\n",
    "Imprime las primeras 10 filas de first_purchase_dates."
   ]
  },
  {
   "cell_type": "code",
   "execution_count": null,
   "metadata": {},
   "outputs": [],
   "source": [
    "import pandas as pd\n",
    "purchases = pd.read_csv('/datasets/game_purchases.csv')\n",
    "\n",
    "first_purchase_dates= purchases.groupby('player_id')['purchase_datetime'].min()\n",
    "first_purchase_dates.name = 'first_purchase_datetime'\n",
    "print(first_purchase_dates.head(10))"
   ]
  },
  {
   "cell_type": "markdown",
   "metadata": {},
   "source": [
    "Resultado\n",
    "player_id\n",
    "00065bd9-5355-4c4b-b331-e8dcb74c18dc    2019-03-16 12:34:54\n",
    "00209bef-ccb4-44d1-b385-7a7a006b81a9    2019-01-06 01:51:41\n",
    "0024571d-3a4a-4664-858c-ac4317205892    2019-05-23 03:13:15\n",
    "00369580-9fbf-4f2f-b3bf-60b18aacdb32    2019-03-04 19:05:45\n",
    "003a9684-be82-4b7e-a176-4cc8a6beb6fe    2019-01-14 21:48:20\n",
    "004b5aaa-1881-49e4-8d1c-79182f7181cb    2019-01-14 11:08:05\n",
    "00557d31-77ed-4f77-90e7-99b0cb7be674    2019-01-14 10:32:20\n",
    "00658dc0-ee2d-4831-9c86-9c9ebdaa0ccc    2019-01-07 22:47:55\n",
    "00959130-8b4a-4ba0-8a7d-29b3469e5a1d    2019-01-23 11:13:10\n",
    "009fa280-fe17-40f7-868c-0a10394addb3    2019-04-22 08:21:04\n",
    "Name: first_purchase_datetime, dtype: object\n",
    "\n",
    "2.Une el DataFrame purchases con el objeto Series first_purchase_dates para que first_purchase_dates se convierta en una columna separada en el DataFrame purchases.  \n",
    "\n",
    "Guarda el DataFrame conjunto como purchases. \n",
    "\n",
    "Imprime las 10 primeras filas del DataFrame conjunto."
   ]
  },
  {
   "cell_type": "code",
   "execution_count": null,
   "metadata": {},
   "outputs": [],
   "source": [
    "import pandas as pd\n",
    "\n",
    "purchases = pd.read_csv('/datasets/game_purchases.csv')\n",
    "first_purchase_dates = purchases.groupby('player_id')[\n",
    "    'purchase_datetime'\n",
    "].min()\n",
    "first_purchase_dates.name = 'first_purchase_datetime'\n",
    "purchases = purchases.join(first_purchase_dates,on='player_id')\n",
    "print(purchases.head(10)) # Imprime las 10 primeras filas del DataFrame"
   ]
  },
  {
   "cell_type": "markdown",
   "metadata": {},
   "source": [
    "Resultado\n",
    "     purchase_datetime  ... first_purchase_datetime\n",
    "0  2019-01-01 00:15:54  ...     2019-01-01 00:15:54\n",
    "1  2019-01-01 00:16:56  ...     2019-01-01 00:16:56\n",
    "2  2019-01-01 00:56:17  ...     2019-01-01 00:56:17\n",
    "3  2019-01-01 00:58:17  ...     2019-01-01 00:58:17\n",
    "4  2019-01-01 01:15:42  ...     2019-01-01 01:15:42\n",
    "5  2019-01-01 01:16:46  ...     2019-01-01 01:16:46\n",
    "6  2019-01-01 01:24:40  ...     2019-01-01 01:24:40\n",
    "7  2019-01-01 01:43:49  ...     2019-01-01 01:43:49\n",
    "8  2019-01-01 01:48:47  ...     2019-01-01 01:48:47\n",
    "9  2019-01-01 01:51:21  ...     2019-01-01 01:51:21\n",
    "\n",
    "[10 rows x 6 columns]\n",
    "\n",
    "3.En el DataFrame purchases, crea una columna purchase_month para almacenar los meses recuperados de la columna purchase_datetime. \n",
    "\n",
    "También crea una columna first_purchase_month donde almacenarás los meses recuperados de la columna first_purchase_datetime. Esta columna se utilizará para crear cohortes.\n",
    "\n",
    "Imprime las 10 primeras filas del DataFrame purchases."
   ]
  },
  {
   "cell_type": "code",
   "execution_count": null,
   "metadata": {},
   "outputs": [],
   "source": [
    "import pandas as pd\n",
    "\n",
    "purchases = pd.read_csv('/datasets/game_purchases.csv')\n",
    "first_purchase_dates = purchases.groupby('player_id')[\n",
    "    'purchase_datetime'\n",
    "].min()\n",
    "first_purchase_dates.name = 'first_purchase_datetime'\n",
    "purchases = purchases.join(first_purchase_dates, on='player_id')\n",
    "purchases['purchase_month'] = purchases['purchase_datetime'].astype('datetime64[M]')\n",
    "purchases['first_purchase_month'] = purchases['first_purchase_datetime'].astype('datetime64[M]')\n",
    "print(purchases.head(10))"
   ]
  },
  {
   "cell_type": "markdown",
   "metadata": {},
   "source": [
    "Resultado\n",
    "     purchase_datetime  ... first_purchase_month\n",
    "0  2019-01-01 00:15:54  ...           2019-01-01\n",
    "1  2019-01-01 00:16:56  ...           2019-01-01\n",
    "2  2019-01-01 00:56:17  ...           2019-01-01\n",
    "3  2019-01-01 00:58:17  ...           2019-01-01\n",
    "4  2019-01-01 01:15:42  ...           2019-01-01\n",
    "5  2019-01-01 01:16:46  ...           2019-01-01\n",
    "6  2019-01-01 01:24:40  ...           2019-01-01\n",
    "7  2019-01-01 01:43:49  ...           2019-01-01\n",
    "8  2019-01-01 01:48:47  ...           2019-01-01\n",
    "9  2019-01-01 01:51:21  ...           2019-01-01\n",
    "\n",
    "[10 rows x 8 columns]\n",
    "\n",
    "4.Haz una tabla con el DataFrame de purchases donde calcularás la suma total gastada en compras dentro del juego para cada cohorte.\n",
    "\n",
    "Guarda la tabla agrupada como cohort_stats.\n",
    "\n",
    "Muestra cohort_stats."
   ]
  },
  {
   "cell_type": "code",
   "execution_count": null,
   "metadata": {},
   "outputs": [],
   "source": [
    "import pandas as pd\n",
    "\n",
    "purchases = pd.read_csv('/datasets/game_purchases.csv')\n",
    "first_purchase_dates = purchases.groupby('player_id')[\n",
    "    'purchase_datetime'\n",
    "].min()\n",
    "first_purchase_dates.name = 'first_purchase_datetime'\n",
    "purchases = purchases.join(first_purchase_dates, on='player_id')\n",
    "purchases['purchase_month'] = purchases['purchase_datetime'].astype(\n",
    "    'datetime64[M]'\n",
    ")\n",
    "purchases['first_purchase_month'] = purchases[\n",
    "    'first_purchase_datetime'\n",
    "].astype('datetime64[M]')\n",
    "cohort_stats = purchases.groupby('first_purchase_month')['price'].sum()\n",
    "print(cohort_stats)"
   ]
  },
  {
   "cell_type": "markdown",
   "metadata": {},
   "source": [
    "Resultado\n",
    "first_purchase_month\n",
    "2019-01-01    2432.2\n",
    "2019-02-01     602.5\n",
    "2019-03-01     292.7\n",
    "2019-04-01     192.8\n",
    "2019-05-01     108.5\n",
    "2019-06-01      72.8\n",
    "2019-07-01      46.7\n",
    "Name: price, dtype: float64\n",
    "\n",
    "EVALUACIÓN DE CAMBIOS EN LOS VALORES ABSOLUTOS POR MES\n",
    "\n",
    "1.Compila una tabla dinámica para mostrar los cambios en las compras totales realizadas por los jugadores en cohortes mensuales. Guárdala como purchase_pivot. \n",
    "\n",
    "Muestra la tabla.\n"
   ]
  },
  {
   "cell_type": "code",
   "execution_count": null,
   "metadata": {},
   "outputs": [],
   "source": [
    "import pandas as pd\n",
    "\n",
    "purchases = pd.read_csv('/datasets/game_purchases.csv')\n",
    "first_purchase_dates = purchases.groupby('player_id')[\n",
    "    'purchase_datetime'\n",
    "].min()\n",
    "first_purchase_dates.name = 'first_purchase_datetime'\n",
    "purchases = purchases.join(first_purchase_dates, on='player_id')\n",
    "purchases['purchase_month'] = purchases['purchase_datetime'].astype(\n",
    "    'datetime64[M]'\n",
    ")\n",
    "purchases['first_purchase_month'] = purchases[\n",
    "    'first_purchase_datetime'\n",
    "].astype('datetime64[M]')\n",
    "purchase_pivot = purchases.pivot_table(index='first_purchase_month', columns='purchase_month',values='price',aggfunc='sum')\n",
    "print(purchase_pivot)"
   ]
  },
  {
   "cell_type": "markdown",
   "metadata": {},
   "source": [
    "Resultado\n",
    "purchase_month        2019-01-01  2019-02-01  2019-03-01  2019-04-01  2019-05-01  2019-06-01  2019-07-01\n",
    "first_purchase_month                                                                                    \n",
    "2019-01-01                 555.6       303.7       318.2       323.3       314.3       313.1       304.0\n",
    "2019-02-01                   NaN       218.9        77.1        75.8        81.2        69.3        80.2\n",
    "2019-03-01                   NaN         NaN       145.1        35.7        38.8        38.1        35.0\n",
    "2019-04-01                   NaN         NaN         NaN       111.5        28.9        23.6        28.8\n",
    "2019-05-01                   NaN         NaN         NaN         NaN        81.8        12.9        13.8\n",
    "2019-06-01                   NaN         NaN         NaN         NaN         NaN        61.5        11.3\n",
    "2019-07-01                   NaN         NaN         NaN         NaN         NaN         NaN        46.7\n",
    "\n",
    "2.Encuentra el número de compras y el número de jugadores que realizaron compras para cada cohorte y para cada mes. Guárdalo como purchases_grouped_by_cohorts. \n",
    "\n",
    "Agrega la columna purchases_per_player al DataFrame purchases_grouped_by_cohorts. En esta columna, calcula el promedio de compras por jugador.\n",
    "\n",
    "Compila una tabla dinámica y guárdala como mean_purchases_pivot. Contendrá cambios en el número promedio de compras por jugador en cada cohorte en diferentes meses.\n",
    "\n",
    "Imprime la tabla dinámica mean_purchases_pivot."
   ]
  },
  {
   "cell_type": "code",
   "execution_count": null,
   "metadata": {},
   "outputs": [],
   "source": [
    "import pandas as pd\n",
    "\n",
    "purchases = pd.read_csv('/datasets/game_purchases.csv')\n",
    "first_purchase_dates = purchases.groupby('player_id')[\n",
    "    'purchase_datetime'\n",
    "].min()\n",
    "first_purchase_dates.name = 'first_purchase_datetime'\n",
    "purchases = purchases.join(first_purchase_dates, on='player_id')\n",
    "purchases['purchase_month'] = purchases['purchase_datetime'].astype(\n",
    "    'datetime64[M]'\n",
    ")\n",
    "purchases['first_purchase_month'] = purchases[\n",
    "    'first_purchase_datetime'\n",
    "].astype('datetime64[M]')\n",
    "purchases_grouped_by_cohorts = purchases.groupby(['first_purchase_month','purchase_month']).agg({'purchase_id':'nunique','player_id':'nunique'}) # Encuentra el número de compras y el número de jugadores que realizaron compras\n",
    "purchases_grouped_by_cohorts['purchases_per_player']=(purchases_grouped_by_cohorts['purchase_id']/purchases_grouped_by_cohorts['player_id'])\n",
    "# Crea una columna 'purchases_per_player'\n",
    "\n",
    "mean_purchases_pivot  = purchases_grouped_by_cohorts.pivot_table(\n",
    "    index='first_purchase_month',\n",
    "    columns='purchase_month',\n",
    "    values='purchases_per_player',\n",
    "    aggfunc='sum',)\n",
    "print(mean_purchases_pivot) # Muestra la tabla dinámica"
   ]
  },
  {
   "cell_type": "markdown",
   "metadata": {},
   "source": [
    "Resultado\n",
    "purchase_month        2019-01-01  2019-02-01  2019-03-01  2019-04-01  2019-05-01  2019-06-01  2019-07-01\n",
    "first_purchase_month                                                                                    \n",
    "2019-01-01              1.671333    2.045802    2.067055    2.177979    2.137462    2.000000    2.025602\n",
    "2019-02-01                   NaN    1.256881    1.456522    1.359833    1.361538    1.362832    1.384921\n",
    "2019-03-01                   NaN         NaN    1.175601    1.246032    1.297710    1.330769    1.288136\n",
    "2019-04-01                   NaN         NaN         NaN    1.149425    1.310680    1.219780    1.320388\n",
    "2019-05-01                   NaN         NaN         NaN         NaN    1.085366    1.145455    1.166667\n",
    "2019-06-01                   NaN         NaN         NaN         NaN         NaN    1.116183    1.170732\n",
    "2019-07-01                   NaN         NaN         NaN         NaN         NaN         NaN    1.072917\n",
    "\n",
    "EVALUACIÒN DE LOS CAMBIOS EN LOS VALORES RELATIVOS POR CICLO DE VIDA\n",
    "\n"
   ]
  }
 ],
 "metadata": {
  "kernelspec": {
   "display_name": "base",
   "language": "python",
   "name": "python3"
  },
  "language_info": {
   "name": "python",
   "version": "3.12.7"
  }
 },
 "nbformat": 4,
 "nbformat_minor": 2
}
