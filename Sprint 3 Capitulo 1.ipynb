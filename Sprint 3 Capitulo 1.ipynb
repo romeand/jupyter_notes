{
 "cells": [
  {
   "cell_type": "code",
   "execution_count": null,
   "id": "4c1d7f5b-e356-447b-8c5f-33ada88f68b2",
   "metadata": {},
   "outputs": [],
   "source": [
    "Ejercicios Lección 2"
   ]
  },
  {
   "cell_type": "code",
   "execution_count": null,
   "id": "56d4609b-d745-403c-8b91-011e49340776",
   "metadata": {},
   "outputs": [],
   "source": [
    "import pandas as pd\n",
    "music = [\n",
    "    ['Bob Dylan','Like A Rolling Stone'],\n",
    "    ['John Lennon','Imagine'],\n",
    "    ['The Beatles','Hey Jude'],\n",
    "    ['Nirvana','Smells Like Teen Spirit']\n",
    "]"
   ]
  },
  {
   "cell_type": "code",
   "execution_count": null,
   "id": "e07a2a73-a44f-4b4a-bcca-bd597b374758",
   "metadata": {},
   "outputs": [],
   "source": [
    "Ejercicio 2"
   ]
  },
  {
   "cell_type": "code",
   "execution_count": 5,
   "id": "1d9756b1-0ee7-4c90-adec-12c82dc8c233",
   "metadata": {},
   "outputs": [
    {
     "name": "stdout",
     "output_type": "stream",
     "text": [
      "        artist                    track\n",
      "0    Bob Dylan     Like A Rolling Stone\n",
      "1  John Lennon                  Imagine\n",
      "2  The Beatles                 Hey Jude\n",
      "3      Nirvana  Smells Like Teen Spirit\n"
     ]
    }
   ],
   "source": [
    "import pandas as pd\n",
    "music = [\n",
    "    ['Bob Dylan','Like A Rolling Stone'],\n",
    "    ['John Lennon','Imagine'],\n",
    "    ['The Beatles','Hey Jude'],\n",
    "    ['Nirvana','Smells Like Teen Spirit']\n",
    "]\n",
    "entries=['artist','track']\n",
    "\n",
    "playlist=pd.DataFrame(data=music, columns=entries)\n",
    "print(playlist)"
   ]
  },
  {
   "cell_type": "code",
   "execution_count": null,
   "id": "45aa9237-b297-4f19-a32e-2cb40eb2e777",
   "metadata": {},
   "outputs": [],
   "source": []
  }
 ],
 "metadata": {
  "kernelspec": {
   "display_name": "Python 3 (ipykernel)",
   "language": "python",
   "name": "python3"
  },
  "language_info": {
   "codemirror_mode": {
    "name": "ipython",
    "version": 3
   },
   "file_extension": ".py",
   "mimetype": "text/x-python",
   "name": "python",
   "nbconvert_exporter": "python",
   "pygments_lexer": "ipython3",
   "version": "3.12.4"
  }
 },
 "nbformat": 4,
 "nbformat_minor": 5
}
