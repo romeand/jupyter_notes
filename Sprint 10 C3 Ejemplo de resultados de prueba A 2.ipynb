{
 "cells": [
  {
   "cell_type": "markdown",
   "metadata": {},
   "source": [
    "\n",
    "1.Encuentra el número total de visitantes y pedidos en cada grupo experimental. Almacena la tabla resultante en table y muestra esta variable. No cambies el precódigo."
   ]
  },
  {
   "cell_type": "code",
   "execution_count": null,
   "metadata": {},
   "outputs": [],
   "source": [
    "import pandas as pd\n",
    "\n",
    "data = pd.read_csv('/datasets/data_3-3.csv', sep=',')\n",
    "\n",
    "print(data.head(5))\n",
    "\n",
    "table = (\n",
    "    data.drop(['date'], axis=1)\n",
    "    .groupby('group', as_index=False)\n",
    "    .agg({'visitors': 'sum', 'orders': 'sum'}))\n",
    "\n",
    "\n",
    "print(table)"
   ]
  },
  {
   "cell_type": "markdown",
   "metadata": {},
   "source": [
    "date group  visitors  orders\n",
    "0  1/1/2019     A      1002      11\n",
    "1  1/2/2019     A       978      10\n",
    "2  1/3/2019     A       966      10\n",
    "3  1/4/2019     A      1035      11\n",
    "4  1/5/2019     A      1019      11\n",
    "  group  visitors  orders\n",
    "0     A     30892     325\n",
    "1     B     30695     383\n",
    "\n",
    "\n",
    "2.Encuentra la relación entre el número de pedidos y el número de visitantes para cada grupo experimental. Añade los resultados a table, almacenándolos en la nueva columna orders_to_visitors_ratio. \n",
    "\n",
    "Redondea los valores a cuatro puntos decimales. Muestra table."
   ]
  },
  {
   "cell_type": "code",
   "execution_count": null,
   "metadata": {},
   "outputs": [],
   "source": [
    "import pandas as pd\n",
    "\n",
    "data = pd.read_csv('/datasets/data_3-3.csv', sep=',')\n",
    "\n",
    "print(data.head(5))\n",
    "\n",
    "table = (\n",
    "    data.drop(['date'], axis=1)\n",
    "    .groupby('group', as_index=False)\n",
    "    .agg({'visitors': 'sum', 'orders': 'sum'})\n",
    ")\n",
    "table['orders_to_visitors_ratio'] = (table['orders'] / table['visitors']).map(lambda x: \"{0:.4f}\".format(x))\n",
    "\n",
    "print(table)"
   ]
  },
  {
   "cell_type": "markdown",
   "metadata": {},
   "source": [
    "Resultado\n",
    "       date group  visitors  orders\n",
    "0  1/1/2019     A      1002      11\n",
    "1  1/2/2019     A       978      10\n",
    "2  1/3/2019     A       966      10\n",
    "3  1/4/2019     A      1035      11\n",
    "4  1/5/2019     A      1019      11\n",
    "  group  visitors  orders orders_to_visitors_ratio\n",
    "0     A     30892     325                   0.0105\n",
    "1     B     30695     383                   0.0125"
   ]
  }
 ],
 "metadata": {
  "kernelspec": {
   "display_name": "base",
   "language": "python",
   "name": "python3"
  },
  "language_info": {
   "name": "python",
   "version": "3.12.7"
  }
 },
 "nbformat": 4,
 "nbformat_minor": 2
}
