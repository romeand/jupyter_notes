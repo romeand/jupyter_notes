{
 "cells": [
  {
   "cell_type": "code",
   "execution_count": null,
   "id": "b66f8471-6d10-4590-98b2-f1cdda6b9198",
   "metadata": {},
   "outputs": [],
   "source": [
    "name_surname = 'Joseph_Kobe_Steeler '\n",
    "name_surname = name_surname.strip()\n",
    "name_surname = name_surname.replace('_',' ')\n",
    "\n",
    "print(name_surname)"
   ]
  },
  {
   "cell_type": "code",
   "execution_count": null,
   "id": "bd9c66d9-9337-45c1-b1e3-016e12ea1b4e",
   "metadata": {},
   "outputs": [],
   "source": [
    "name_surname = 'Joseph Kobe Steeler'\n",
    "name_split = name_surname.split(' ')\n",
    "print(name_split)"
   ]
  },
  {
   "cell_type": "code",
   "execution_count": null,
   "id": "e69dad9a-eb30-4332-84a9-c5d809da9334",
   "metadata": {},
   "outputs": [],
   "source": [
    "age = '74'\n",
    "\n",
    "print(type(age))\n",
    "age = int(age)\n",
    "\n",
    "print(age)\n",
    "print(type(age))"
   ]
  },
  {
   "cell_type": "code",
   "execution_count": null,
   "id": "fdb30184-803c-4b8e-8001-b7ca678f561c",
   "metadata": {},
   "outputs": [],
   "source": [
    "age = 'seventy four'\n",
    "\n",
    "try:\n",
    "    age = int(age)\n",
    "except:\n",
    "    print('La edad debe ser un valor numérico.')"
   ]
  },
  {
   "cell_type": "code",
   "execution_count": 8,
   "id": "f51de2c0-7947-497e-b5f7-d116f627049e",
   "metadata": {},
   "outputs": [
    {
     "name": "stdout",
     "output_type": "stream",
     "text": [
      "1680\n"
     ]
    }
   ],
   "source": [
    "citizen_CA = [-465, 156, -567, -6051, 8607]\n",
    "\n",
    "total_amount = sum(citizen_CA)\n",
    "print(total_amount)\n"
   ]
  },
  {
   "cell_type": "code",
   "execution_count": 3,
   "id": "644ba107-7e63-4e3f-a15f-105e4f6493cc",
   "metadata": {},
   "outputs": [
    {
     "name": "stdout",
     "output_type": "stream",
     "text": [
      "250000\n"
     ]
    }
   ],
   "source": [
    "clients = [\n",
    "    [32456, 'Jack Wilson', 32, 150000, 'Healthcare'],\n",
    "    [34591, 'Nina Brown', 45, 250000, 'Telecom']\n",
    "]\n",
    "\n",
    "client_income = clients[1][3]\n",
    "print(client_income)"
   ]
  },
  {
   "cell_type": "code",
   "execution_count": 5,
   "id": "fa9bd454-567c-4aef-a44c-de9088f5ffee",
   "metadata": {},
   "outputs": [
    {
     "name": "stdout",
     "output_type": "stream",
     "text": [
      "['Jack Wilson', 'Nina Brown', 'Alex Smith', 'Brian Perez', 'David Martinez', 'John Kim']\n"
     ]
    }
   ],
   "source": [
    "names = 'Jack Wilson,Nina Brown,Alex Smith,Brian Perez,David Martinez,John Kim'\n",
    "\n",
    "names_split = names.split(',')\n",
    "\n",
    "print(names_split)"
   ]
  },
  {
   "cell_type": "code",
   "execution_count": 7,
   "id": "48e7e51b-2f86-4312-b6f5-fcd95c0921f5",
   "metadata": {},
   "outputs": [
    {
     "ename": "AttributeError",
     "evalue": "'builtin_function_or_method' object has no attribute 'clear'",
     "output_type": "error",
     "traceback": [
      "\u001b[1;31m---------------------------------------------------------------------------\u001b[0m",
      "\u001b[1;31mAttributeError\u001b[0m                            Traceback (most recent call last)",
      "Cell \u001b[1;32mIn[7], line 1\u001b[0m\n\u001b[1;32m----> 1\u001b[0m \u001b[38;5;28mprint\u001b[39m\u001b[38;5;241m.\u001b[39mclear\n",
      "\u001b[1;31mAttributeError\u001b[0m: 'builtin_function_or_method' object has no attribute 'clear'"
     ]
    }
   ],
   "source": [
    "print.clear"
   ]
  },
  {
   "cell_type": "code",
   "execution_count": null,
   "id": "7d5bf766-5edc-4838-9089-1b6e84c33b68",
   "metadata": {},
   "outputs": [],
   "source": []
  },
  {
   "cell_type": "code",
   "execution_count": 9,
   "id": "895fd1e6-2861-43a4-80df-d717ebb7d9fa",
   "metadata": {},
   "outputs": [
    {
     "name": "stdout",
     "output_type": "stream",
     "text": [
      "\f",
      "\n"
     ]
    }
   ],
   "source": [
    "clear"
   ]
  },
  {
   "cell_type": "code",
   "execution_count": 23,
   "id": "a4660596-4008-4909-b899-8090193ba40a",
   "metadata": {},
   "outputs": [
    {
     "name": "stdout",
     "output_type": "stream",
     "text": [
      "mike reed\n"
     ]
    }
   ],
   "source": [
    "user_name = ' mike_reed '\n",
    "user_name = user_name.strip().replace('_',' ')\n",
    "\n",
    "\n",
    "print(user_name)"
   ]
  },
  {
   "cell_type": "code",
   "execution_count": 27,
   "id": "cb7f6169-cfaf-4862-8a96-2096b7cd8714",
   "metadata": {},
   "outputs": [
    {
     "name": "stdout",
     "output_type": "stream",
     "text": [
      "['mike', 'reed']\n"
     ]
    }
   ],
   "source": [
    "user_name = 'mike reed'\n",
    "name_split = user_name.split()\n",
    "\n",
    "print(name_split)"
   ]
  },
  {
   "cell_type": "code",
   "execution_count": 43,
   "id": "9349ada5-ffd9-4fb0-a10a-7ebc33c2f69b",
   "metadata": {},
   "outputs": [
    {
     "name": "stdout",
     "output_type": "stream",
     "text": [
      "32\n"
     ]
    }
   ],
   "source": [
    "user_age = 32.0\n",
    "user_age = int(user_age)\n",
    "print(user_age)"
   ]
  },
  {
   "cell_type": "code",
   "execution_count": 45,
   "id": "b4fc0133-4052-425e-83b4-76fa62c672ee",
   "metadata": {},
   "outputs": [
    {
     "name": "stdout",
     "output_type": "stream",
     "text": [
      "Please provide your age as a numerical value\n"
     ]
    }
   ],
   "source": [
    "user_age = 'treinta y dos'\n",
    "try:\n",
    "    user_age_int = int(user_age)\n",
    "except:\n",
    "    message='Please provide your age as a numerical value'\n",
    "    print(message)"
   ]
  },
  {
   "cell_type": "code",
   "execution_count": 53,
   "id": "7f5943d3-5174-44a9-a86b-1bb30e55cd0f",
   "metadata": {},
   "outputs": [
    {
     "name": "stdout",
     "output_type": "stream",
     "text": [
      "[['31980', 'kate morgan', 24.0, ['CLOTHES', 'BOOKS'], [439, 390]], ['32156', ' john doe ', 37.0, ['ELECTRONICS', 'HOME', 'FOOD'], [459, 120, 99]], ['32415', ' mike_reed ', 32.0, ['ELECTRONICS', 'SPORT', 'BOOKS'], [894, 213, 173]], ['32761', 'SAMANTHA SMITH', 29.0, ['CLOTHES', 'ELECTRONICS', 'BEAUTY'], [299, 679, 85]], ['32984', 'David White', 41.0, ['BOOKS', 'HOME', 'SPORT'], [234, 329, 243]], ['33001', 'emily brown', 26.0, ['BEAUTY', 'HOME', 'FOOD'], [213, 659, 79]], ['33767', ' Maria Garcia', 33.0, ['CLOTHES', 'FOOD', 'BEAUTY'], [499, 189, 63]], ['33912', 'JOSE MARTINEZ', 22.0, ['SPORT', 'ELECTRONICS', 'HOME'], [259, 549, 109]], ['34009', 'lisa wilson ', 35.0, ['HOME', 'BOOKS', 'CLOTHES'], [329, 189, 329]], ['34278', 'James Lee', 28.0, ['BEAUTY', 'CLOTHES', 'ELECTRONICS'], [189, 299, 579]]]\n"
     ]
    }
   ],
   "source": [
    "users = [\n",
    "    ['32415', ' mike_reed ', 32.0, ['ELECTRONICS', 'SPORT', 'BOOKS'], [894, 213, 173]],\n",
    "    ['31980', 'kate morgan', 24.0, ['CLOTHES', 'BOOKS'], [439, 390]],\n",
    "    ['32156', ' john doe ', 37.0, ['ELECTRONICS', 'HOME', 'FOOD'], [459, 120, 99]],\n",
    "    ['32761', 'SAMANTHA SMITH', 29.0, ['CLOTHES', 'ELECTRONICS', 'BEAUTY'], [299, 679, 85]],\n",
    "    ['32984', 'David White', 41.0, ['BOOKS', 'HOME', 'SPORT'], [234, 329, 243]],\n",
    "    ['33001', 'emily brown', 26.0, ['BEAUTY', 'HOME', 'FOOD'], [213, 659, 79]],\n",
    "    ['33767', ' Maria Garcia', 33.0, ['CLOTHES', 'FOOD', 'BEAUTY'], [499, 189, 63]],\n",
    "    ['33912', 'JOSE MARTINEZ', 22.0, ['SPORT', 'ELECTRONICS', 'HOME'], [259, 549, 109]],\n",
    "    ['34009', 'lisa wilson ', 35.0, ['HOME', 'BOOKS', 'CLOTHES'], [329, 189, 329]],\n",
    "    ['34278', 'James Lee', 28.0, ['BEAUTY', 'CLOTHES', 'ELECTRONICS'], [189, 299, 579]],\n",
    "]\n",
    "users.sort()\n",
    "print(users)"
   ]
  },
  {
   "cell_type": "code",
   "execution_count": 55,
   "id": "396d973c-a9e4-46e7-bf4a-313a623c295d",
   "metadata": {},
   "outputs": [
    {
     "name": "stdout",
     "output_type": "stream",
     "text": [
      "1280\n"
     ]
    }
   ],
   "source": [
    "fav_categories_low = ['electronics', 'sport', 'books']\n",
    "spendings_per_category = [894, 213, 173]\n",
    "\n",
    "total_amount = sum(spendings_per_category)\n",
    "\n",
    "print(total_amount)"
   ]
  },
  {
   "cell_type": "code",
   "execution_count": 57,
   "id": "e43db85e-5abf-4346-bd4e-1bdf533b5bb9",
   "metadata": {},
   "outputs": [
    {
     "name": "stdout",
     "output_type": "stream",
     "text": [
      "User 32415 is mike who is 32 years old.\n"
     ]
    }
   ],
   "source": [
    "user_id = '32415'\n",
    "user_name = ['mike', 'reed']\n",
    "user_age = 32\n",
    "\n",
    "user_info =f'User {user_id} is {user_name[0]} who is {user_age} years old.'\n",
    "print(user_info)"
   ]
  },
  {
   "cell_type": "code",
   "execution_count": 79,
   "id": "80ac8b75-f8eb-487d-a4b0-c6152ab67574",
   "metadata": {},
   "outputs": [
    {
     "name": "stdout",
     "output_type": "stream",
     "text": [
      "Hemos registrado datos de 10 clientes.\n"
     ]
    }
   ],
   "source": [
    "users = [\n",
    "    ['32415', ' mike_reed ', 32.0, ['ELECTRONICS', 'SPORT', 'BOOKS'], [894, 213, 173]],\n",
    "    ['31980', 'kate morgan', 24.0, ['CLOTHES', 'BOOKS'], [439, 390]],\n",
    "    ['32156', ' john doe ', 37.0, ['ELECTRONICS', 'HOME', 'FOOD'], [459, 120, 99]],\n",
    "    ['32761', 'SAMANTHA SMITH', 29.0, ['CLOTHES', 'ELECTRONICS', 'BEAUTY'], [299, 679, 85]],\n",
    "    ['32984', 'David White', 41.0, ['BOOKS', 'HOME', 'SPORT'], [234, 329, 243]],\n",
    "    ['33001', 'emily brown', 26.0, ['BEAUTY', 'HOME', 'FOOD'], [213, 659, 79]],\n",
    "    ['33767', ' Maria Garcia', 33.0, ['CLOTHES', 'FOOD', 'BEAUTY'], [499, 189, 63]],\n",
    "    ['33912', 'JOSE MARTINEZ', 22.0, ['SPORT', 'ELECTRONICS', 'HOME'], [259, 549, 109]],\n",
    "    ['34009', 'lisa wilson ', 35.0, ['HOME', 'BOOKS', 'CLOTHES'], [329, 189, 329]],\n",
    "    ['34278', 'James Lee', 28.0, ['BEAUTY', 'CLOTHES', 'ELECTRONICS'], [189, 299, 579]],\n",
    "]\n",
    "\n",
    "\n",
    "user_info = f'Hemos registrado datos de {len(users)} clientes.'\n",
    "print(user_info)"
   ]
  },
  {
   "cell_type": "code",
   "execution_count": 181,
   "id": "48d6a531-01f0-4175-9a97-48f567bbc238",
   "metadata": {},
   "outputs": [
    {
     "name": "stdout",
     "output_type": "stream",
     "text": [
      "[['32415', ['mike', 'reed'], 32, ['ELECTRONICS', 'SPORT', 'BOOKS'], [894, 213, 173]], ['31980', ['kate', 'morgan'], 24, ['CLOTHES', 'BOOKS'], [439, 390]], ['32156', ['john', 'doe'], 37, ['ELECTRONICS', 'HOME', 'FOOD'], [459, 120, 99]]]\n"
     ]
    }
   ],
   "source": [
    "users = [\n",
    "    ['32415', ' mike_reed ', 32.0, ['ELECTRONICS', 'SPORT', 'BOOKS'], [894, 213, 173]],\n",
    "    ['31980', 'kate morgan', 24.0, ['CLOTHES', 'BOOKS'], [439, 390]],\n",
    "    ['32156', ' john doe ', 37.0, ['ELECTRONICS', 'HOME', 'FOOD'], [459, 120, 99]],\n",
    "]\n",
    "\n",
    "users_clean = []\n",
    "\n",
    "# Procesa al primer usuario\n",
    "user_name_1 = users[0][1].strip().replace('_',' ')\n",
    "user_age_1 = int(users[0][2])\n",
    "user_name_1 = user_name_1.split()\n",
    "users_clean.append([users[0][0],user_name_1,user_age_1,users[0][3],users[0][4]])\n",
    "\n",
    "# Procesa al segundo usuario\n",
    "user_name_2 = users[1][1].strip().replace('_',' ')\n",
    "user_age_2 = int(users[1][2])\n",
    "user_name_2 = user_name_2.split()\n",
    "users_clean.append([users[1][0],user_name_2,user_age_2,users[1][3],users[1][4]])\n",
    "\n",
    "# Procesa al tercer usuario\n",
    "user_name_3 = users[2][1].strip().replace('_',' ')\n",
    "user_age_3 = int(users[2][2])\n",
    "user_name_3 = user_name_3.split()\n",
    "users_clean.append([users[2][0],user_name_3,user_age_3,users[2][3],users[2][4]])\n",
    "\n",
    "print(users_clean)"
   ]
  },
  {
   "cell_type": "code",
   "execution_count": null,
   "id": "009936a5-8111-4bcf-a0e8-25509be0ae74",
   "metadata": {},
   "outputs": [],
   "source": []
  }
 ],
 "metadata": {
  "kernelspec": {
   "display_name": "Python 3 (ipykernel)",
   "language": "python",
   "name": "python3"
  },
  "language_info": {
   "codemirror_mode": {
    "name": "ipython",
    "version": 3
   },
   "file_extension": ".py",
   "mimetype": "text/x-python",
   "name": "python",
   "nbconvert_exporter": "python",
   "pygments_lexer": "ipython3",
   "version": "3.12.4"
  }
 },
 "nbformat": 4,
 "nbformat_minor": 5
}
