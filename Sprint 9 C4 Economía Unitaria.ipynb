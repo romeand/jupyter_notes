{
 "cells": [
  {
   "cell_type": "markdown",
   "metadata": {},
   "source": [
    "1.El estudio Peacegaming ha lanzado un juego llamado World of Tractors. Personas de todo el mundo compiten para cosechar emocionantes granos y legumbres de un campo infinito. **¿Qué se debe hacer para que el juego sea rentable?\n",
    "\n",
    "Datos:\n",
    "\n",
    "La audiencia es de 50 000 usuarios.\n",
    "Cada usuario paga un promedio de $10 al mes.\n",
    "El presupuesto de marketing es de $200 000 por mes.\n",
    "El mantenimiento del servidor cuesta $200 000 por mes (cuanto mayor es la audiencia, más servidores se necesitan).\n",
    "Los sueldos de los programadores y programadoras suman un total de $300 000 por mes.\n",
    "El alquiler de la oficina es de $150 000 por mes.\n",
    "Almacena los datos en las variables y calcula los ingresos, costos totales y beneficios."
   ]
  },
  {
   "cell_type": "code",
   "execution_count": null,
   "metadata": {},
   "outputs": [],
   "source": [
    "import pandas as pd\n",
    "\n",
    "n_users = 50000\n",
    "revenue_per_user = 10\n",
    "\n",
    "var_costs = pd.Series({\n",
    "    'marketing':200000,\n",
    "    'servers':200000\n",
    "})\n",
    "\n",
    "fixed_costs = pd.Series({\n",
    "    'salaries': 300000,\n",
    "    'rent': 150000\n",
    "})\n",
    "\n",
    "revenue = n_users * revenue_per_user\n",
    "total_costs = var_costs.sum() + fixed_costs.sum()\n",
    "\n",
    "print('Revenue:', revenue)\n",
    "print('Costs:', total_costs)\n",
    "print('Profit:', revenue - total_costs)"
   ]
  },
  {
   "cell_type": "markdown",
   "metadata": {},
   "source": [
    "Resultado\n",
    "Revenue: 500000\n",
    "Costs: 850000\n",
    "Profit: -350000\n",
    "\n",
    "2.Calcula la economía unitaria para World of Tractors sin tener en cuenta los gastos fijos. Guarda el resultado como one_unit_var_costs. Muestra los ingresos por venta, los gastos variables por venta y el total."
   ]
  },
  {
   "cell_type": "code",
   "execution_count": null,
   "metadata": {},
   "outputs": [],
   "source": [
    "import pandas as pd\n",
    "\n",
    "n_users = 50000\n",
    "revenue_per_user = 10\n",
    "\n",
    "var_costs = pd.Series({'marketing': 200000, 'servers': 200000})\n",
    "\n",
    "fixed_costs = pd.Series({'salaries': 300000, 'rent': 150000})\n",
    "\n",
    "revenue = n_users * revenue_per_user\n",
    "total_costs = var_costs.sum() + fixed_costs.sum()\n",
    "\n",
    "one_unit_revenue = revenue/n_users\n",
    "one_unit_var_costs = var_costs/n_users\n",
    "\n",
    "print('Revenue:', revenue_per_user)\n",
    "print('Costs:', one_unit_var_costs.sum())\n",
    "print('Profit:', one_unit_revenue - one_unit_var_costs.sum())"
   ]
  },
  {
   "cell_type": "markdown",
   "metadata": {},
   "source": [
    "Resultado\n",
    "Revenue: 10\n",
    "Costs: 8.0\n",
    "Profit: 2.0\n",
    "\n",
    "3.La economía es sólida. Crea un modelo para calcular el volumen de ventas necesario para que el negocio sea rentable. El número de usuarios aumentará si aumentas los gastos de marketing."
   ]
  },
  {
   "cell_type": "code",
   "execution_count": null,
   "metadata": {},
   "outputs": [],
   "source": [
    "import pandas as pd\n",
    "\n",
    "n_users = 50000\n",
    "revenue_per_user = 10\n",
    "\n",
    "var_costs = pd.Series({'marketing': 200000, 'servers': 200000})\n",
    "\n",
    "fixed_costs = pd.Series({'salaries': 300000, 'rent': 150000})\n",
    "\n",
    "revenue = n_users * revenue_per_user\n",
    "total_costs = var_costs.sum() + fixed_costs.sum()\n",
    "\n",
    "one_unit_var_costs = var_costs / n_users\n",
    "\n",
    "\n",
    "def unit_economics(marketing):  \n",
    "    n_users = marketing/one_unit_var_costs['marketing']\n",
    "    revenue = revenue_per_user * n_users\n",
    "    var_costs = one_unit_var_costs * n_users\n",
    "    return revenue - sum(var_costs) - sum(fixed_costs)\n",
    "\n",
    "for m in range(300000, 1500000, 100000):\n",
    "    print('Profit/loss: {} with a budget of {}'.format(unit_economics(m), m))"
   ]
  },
  {
   "cell_type": "markdown",
   "metadata": {},
   "source": [
    "Resultado\n",
    "Profit/loss: -300000.0 with a budget of 300000\n",
    "Profit/loss: -250000.0 with a budget of 400000\n",
    "Profit/loss: -200000.0 with a budget of 500000\n",
    "Profit/loss: -150000.0 with a budget of 600000\n",
    "Profit/loss: -100000.0 with a budget of 700000\n",
    "Profit/loss: -50000.0 with a budget of 800000\n",
    "Profit/loss: 0.0 with a budget of 900000\n",
    "Profit/loss: 50000.0 with a budget of 1000000\n",
    "Profit/loss: 100000.0 with a budget of 1100000\n",
    "Profit/loss: 150000.0 with a budget of 1200000\n",
    "Profit/loss: 200000.0 with a budget of 1300000\n",
    "Profit/loss: 250000.0 with a budget of 1400000\n",
    "\n",
    "ECONOMÍA UNITARIA POR CLIENTE PARA UNA TIENDA ONLINE"
   ]
  }
 ],
 "metadata": {
  "kernelspec": {
   "display_name": "Python 3",
   "language": "python",
   "name": "python3"
  },
  "language_info": {
   "name": "python",
   "version": "3.13.1"
  }
 },
 "nbformat": 4,
 "nbformat_minor": 2
}
