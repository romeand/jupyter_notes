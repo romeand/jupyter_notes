{
 "cells": [
  {
   "cell_type": "code",
   "execution_count": null,
   "id": "0b62cf6c-54fc-44c1-86ae-ff078d031088",
   "metadata": {},
   "outputs": [],
   "source": [
    "Lección 2 Práctica funciones"
   ]
  },
  {
   "cell_type": "code",
   "execution_count": 13,
   "id": "4f503ede-28ff-4d97-86b4-cea82938af61",
   "metadata": {},
   "outputs": [
    {
     "name": "stdout",
     "output_type": "stream",
     "text": [
      "360.0\n",
      "30.0\n",
      "54.0\n"
     ]
    }
   ],
   "source": [
    "def total_discount(price, quantity):\n",
    "    total = price*quantity\n",
    "    if quantity > 5:\n",
    "        total = total*0.9\n",
    "    return total\n",
    "\n",
    "item_price_1 = 20.0\n",
    "item_quantity_1 = 20\n",
    "\n",
    "item_price_2 = 30.0\n",
    "item_quantity_2 = 1\n",
    "\n",
    "item_price_3 = 10.0\n",
    "item_quantity_3 = 6\n",
    "\n",
    "item_total_1 = total_discount(item_price_1,item_quantity_1)\n",
    "item_total_2 = total_discount(item_price_2,item_quantity_2)\n",
    "item_total_3 = total_discount(item_price_3,item_quantity_3)\n",
    "\n",
    "print(item_total_1)\n",
    "print(item_total_2)\n",
    "print(item_total_3)\n"
   ]
  },
  {
   "cell_type": "code",
   "execution_count": null,
   "id": "733fe551-f2a4-4850-b04b-ef7232940f66",
   "metadata": {},
   "outputs": [],
   "source": [
    "Lección 3 Funciones de filtro"
   ]
  },
  {
   "cell_type": "code",
   "execution_count": 17,
   "id": "7d938c02-101c-4301-bca4-0bea9fffbf8b",
   "metadata": {},
   "outputs": [
    {
     "name": "stdout",
     "output_type": "stream",
     "text": [
      "['The Shawshank Redemption', 'USA', 1994, 'drama', 142, 9.111]\n",
      "['The Godfather', 'USA', 1972, 'drama, crime', 175, 8.73]\n",
      "['The Dark Knight', 'USA', 2008, 'fantasy, action, thriller', 152, 8.499]\n",
      "[\"Schindler's List\", 'USA', 1993, 'drama', 195, 8.818]\n",
      "['The Lord of the Rings: The Return of the King', 'New Zealand', 2003, 'fantasy, adventure, drama', 201, 8.625]\n",
      "['Pulp Fiction', 'USA', 1994, 'thriller, comedy, crime', 154, 8.619]\n",
      "['The Good, the Bad and the Ugly', 'Italy', 1966, 'western', 178, 8.521]\n"
     ]
    }
   ],
   "source": [
    "def filter_by_timing(data, target_duration): \n",
    "    filtered_result = []\n",
    "    for row in data:\n",
    "        if row[4] > target_duration:\n",
    "            filtered_result.append(row)\n",
    "    return filtered_result \n",
    "\n",
    "def print_movie_info(data):\n",
    "    for movie in data:\n",
    "        print(movie)\n",
    "\n",
    "movies_info = [\n",
    "    ['The Shawshank Redemption', 'USA', 1994, 'drama', 142, 9.111],\n",
    "    ['The Godfather', 'USA', 1972, 'drama, crime', 175, 8.730],\n",
    "    ['The Dark Knight', 'USA', 2008, 'fantasy, action, thriller', 152, 8.499],\n",
    "    [\"Schindler's List\", 'USA', 1993, 'drama', 195, 8.818],\n",
    "    ['The Lord of the Rings: The Return of the King', 'New Zealand', 2003, 'fantasy, adventure, drama', 201, 8.625],\n",
    "    ['Pulp Fiction', 'USA', 1994, 'thriller, comedy, crime', 154, 8.619],\n",
    "    ['The Good, the Bad and the Ugly', 'Italy', 1966, 'western', 178, 8.521],\n",
    "    ['Fight Club', 'USA', 1999, 'thriller, drama, crime', 139, 8.644],\n",
    "    ['Harakiri', 'Japan', 1962, 'drama, action, history', 133, 8.106],\n",
    "    ['Good Will Hunting', 'USA', 1997, 'drama, romance', 126, 8.077]\n",
    "]\n",
    "\n",
    "movies_filtered = filter_by_timing(movies_info, 140) # llama aquí a la función de filtrad\n",
    "print_movie_info(movies_filtered) # llama a la función para mostrar los resultados aquí"
   ]
  },
  {
   "cell_type": "code",
   "execution_count": null,
   "id": "b87cfa23-67c7-41ec-b619-d255a7ef8592",
   "metadata": {},
   "outputs": [],
   "source": [
    "Ejercicio 2\n",
    "Basándote en la función anterior, escribe una nueva filter_by_year() que filtre las películas por año de estreno. La nueva función debe tener dos parámetros:\n",
    "\n",
    "data=: datos sobre las películas.\n",
    "year=: criterio de filtro basado en el año.\n",
    "La función debe devolver una lista de listas que sólo contengan películas estrenadas después de year=. \n",
    "\n",
    "Al final, debes imprimir el resultado de la función utilizando el año 1990 como argumento."
   ]
  },
  {
   "cell_type": "code",
   "execution_count": 25,
   "id": "38b6dffc-ff2d-4807-bb39-b71a03c3c9d3",
   "metadata": {},
   "outputs": [
    {
     "name": "stdout",
     "output_type": "stream",
     "text": [
      "['The Shawshank Redemption', 'USA', 1994, 'drama', 142, 9.111]\n",
      "['The Dark Knight', 'USA', 2008, 'fantasy, action, thriller', 152, 8.499]\n",
      "[\"Schindler's List\", 'USA', 1993, 'drama', 195, 8.818]\n",
      "['The Lord of the Rings: The Return of the King', 'New Zealand', 2003, 'fantasy, adventure, drama', 201, 8.625]\n",
      "['Pulp Fiction', 'USA', 1994, 'thriller, comedy, crime', 154, 8.619]\n",
      "['Fight Club', 'USA', 1999, 'thriller, drama, crime', 139, 8.644]\n",
      "['Good Will Hunting', 'USA', 1997, 'drama, romance', 126, 8.077]\n"
     ]
    }
   ],
   "source": [
    "# esta función imprime la tabla filtrada. No modificar\n",
    "def print_movie_info(data):\n",
    "    for movie in data:\n",
    "        print(movie)\n",
    "        \n",
    "def filter_by_year(data,year):# define tu función filter_by_year() aquí\n",
    "    filtered_result = []\n",
    "    for row in data:\n",
    "        if row[2] > year:\n",
    "            filtered_result.append(row)\n",
    "    return filtered_result \n",
    "movies_info = [\n",
    "    ['The Shawshank Redemption', 'USA', 1994, 'drama', 142, 9.111],\n",
    "    ['The Godfather', 'USA', 1972, 'drama, crime', 175, 8.730],\n",
    "    ['The Dark Knight', 'USA', 2008, 'fantasy, action, thriller', 152, 8.499],\n",
    "    [\"Schindler's List\", 'USA', 1993, 'drama', 195, 8.818],\n",
    "    ['The Lord of the Rings: The Return of the King', 'New Zealand', 2003, 'fantasy, adventure, drama', 201, 8.625],\n",
    "    ['Pulp Fiction', 'USA', 1994, 'thriller, comedy, crime', 154, 8.619],\n",
    "    ['The Good, the Bad and the Ugly', 'Italy', 1966, 'western', 178, 8.521],\n",
    "    ['Fight Club', 'USA', 1999, 'thriller, drama, crime', 139, 8.644],\n",
    "    ['Harakiri', 'Japan', 1962, 'drama, action, history', 133, 8.106],\n",
    "    ['Good Will Hunting', 'USA', 1997, 'drama, romance', 126, 8.077]\n",
    "]\n",
    "# A continuación tienes dos llamadas a funciones: para filtrar y para imprimir\n",
    "movies_filtered = filter_by_year(movies_info, 1990)\n",
    "print_movie_info(movies_filtered)"
   ]
  },
  {
   "cell_type": "code",
   "execution_count": null,
   "id": "b5937a11-b9e1-4a26-8616-48b4858f574f",
   "metadata": {},
   "outputs": [],
   "source": [
    "Lección 5 Variables globales y locales"
   ]
  },
  {
   "cell_type": "code",
   "execution_count": 27,
   "id": "f141e1e1-da40-4d07-a24d-da5ff512d94b",
   "metadata": {},
   "outputs": [
    {
     "name": "stdout",
     "output_type": "stream",
     "text": [
      "¡El omelet está listo! Huevos utilizados: 3, con queso\n"
     ]
    }
   ],
   "source": [
    "def omelet(cheese, eggs_number):\n",
    "    result = '¡El omelet está listo! Huevos utilizados: ' + str(eggs_number)\n",
    "    if cheese == True:\n",
    "        result = result + ', con queso'\n",
    "    else:\n",
    "        result = result + ', sin queso'\n",
    "    return result\n",
    "\n",
    "print(omelet(True, 3))"
   ]
  },
  {
   "cell_type": "code",
   "execution_count": 29,
   "id": "09d56e0c-510d-4487-8abd-ce69ba21aa5f",
   "metadata": {},
   "outputs": [
    {
     "ename": "NameError",
     "evalue": "name 'result' is not defined",
     "output_type": "error",
     "traceback": [
      "\u001b[1;31m---------------------------------------------------------------------------\u001b[0m",
      "\u001b[1;31mNameError\u001b[0m                                 Traceback (most recent call last)",
      "Cell \u001b[1;32mIn[29], line 11\u001b[0m\n\u001b[0;32m      8\u001b[0m     \u001b[38;5;28;01mreturn\u001b[39;00m result\n\u001b[0;32m     10\u001b[0m omelet(\u001b[38;5;28;01mTrue\u001b[39;00m, \u001b[38;5;241m3\u001b[39m)\n\u001b[1;32m---> 11\u001b[0m \u001b[38;5;28mprint\u001b[39m(result)\n",
      "\u001b[1;31mNameError\u001b[0m: name 'result' is not defined"
     ]
    }
   ],
   "source": [
    "#Si intentas imprimirlo desde fuera de la función, se producirá una error:\n",
    "def omelet(cheese, eggs_number):\n",
    "    result = '¡El omelet está listo! Huevos utilizados: ' + str(eggs_number)\n",
    "    if cheese == True:\n",
    "        result = result + ', con queso'\n",
    "    else:\n",
    "        result = result + ', sin queso'\n",
    "    return result\n",
    "\n",
    "omelet(True, 3)\n",
    "print(result)"
   ]
  },
  {
   "cell_type": "code",
   "execution_count": null,
   "id": "0468ed04-3605-419a-afbe-4006847326a1",
   "metadata": {},
   "outputs": [],
   "source": []
  }
 ],
 "metadata": {
  "kernelspec": {
   "display_name": "Python 3 (ipykernel)",
   "language": "python",
   "name": "python3"
  },
  "language_info": {
   "codemirror_mode": {
    "name": "ipython",
    "version": 3
   },
   "file_extension": ".py",
   "mimetype": "text/x-python",
   "name": "python",
   "nbconvert_exporter": "python",
   "pygments_lexer": "ipython3",
   "version": "3.12.4"
  }
 },
 "nbformat": 4,
 "nbformat_minor": 5
}
