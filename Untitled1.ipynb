{
 "cells": [
  {
   "cell_type": "code",
   "execution_count": 45,
   "id": "1a9581a5-e15f-420f-bd59-3f05ad8fe840",
   "metadata": {},
   "outputs": [
    {
     "ename": "SyntaxError",
     "evalue": "invalid syntax (2759958839.py, line 1)",
     "output_type": "error",
     "traceback": [
      "\u001b[1;36m  Cell \u001b[1;32mIn[45], line 1\u001b[1;36m\u001b[0m\n\u001b[1;33m    Ejercicios Creación de múltiples ramas con else y elif\u001b[0m\n\u001b[1;37m               ^\u001b[0m\n\u001b[1;31mSyntaxError\u001b[0m\u001b[1;31m:\u001b[0m invalid syntax\n"
     ]
    }
   ],
   "source": [
    "Ejercicios Creación de múltiples ramas con else y elif\n",
    "SPRINT 2, Capítulo 2, lección 4."
   ]
  },
  {
   "cell_type": "code",
   "execution_count": 41,
   "id": "3315396c-3664-4dd6-8ea6-a53cd306df3c",
   "metadata": {},
   "outputs": [
    {
     "name": "stdout",
     "output_type": "stream",
     "text": [
      "5\n",
      "2\n",
      "3\n",
      "5\n",
      "4\n",
      "5\n"
     ]
    }
   ],
   "source": [
    "ratings = [91, 35, 65, 89, 78, 93]\n",
    "for califa in ratings:\n",
    "    if califa >= 0 and califa <= 59:\n",
    "        print(2)\n",
    "    elif califa >= 60 and califa <= 72:\n",
    "        print(3)\n",
    "    elif califa >= 73 and califa <= 84:\n",
    "        print(4)\n",
    "    else:\n",
    "        califa >= 85 and califa <= 100\n",
    "        print(5)\n",
    "        "
   ]
  },
  {
   "cell_type": "code",
   "execution_count": null,
   "id": "389f1fe5-2686-498f-b33a-e551dad02177",
   "metadata": {},
   "outputs": [],
   "source": [
    "Lección 5, modificación de tablas."
   ]
  }
 ],
 "metadata": {
  "kernelspec": {
   "display_name": "Python 3 (ipykernel)",
   "language": "python",
   "name": "python3"
  },
  "language_info": {
   "codemirror_mode": {
    "name": "ipython",
    "version": 3
   },
   "file_extension": ".py",
   "mimetype": "text/x-python",
   "name": "python",
   "nbconvert_exporter": "python",
   "pygments_lexer": "ipython3",
   "version": "3.12.4"
  }
 },
 "nbformat": 4,
 "nbformat_minor": 5
}
